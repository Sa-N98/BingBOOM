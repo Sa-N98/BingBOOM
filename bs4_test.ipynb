{
 "cells": [
  {
   "cell_type": "code",
   "execution_count": 13,
   "metadata": {},
   "outputs": [],
   "source": [
    "from bs4 import BeautifulSoup\n",
    "\n",
    "with open(\"output.html\", \"r\", encoding=\"utf-8\") as file:\n",
    "    html_content = file.read()\n",
    "soup = BeautifulSoup(html_content, 'html.parser')"
   ]
  },
  {
   "cell_type": "code",
   "execution_count": 14,
   "metadata": {},
   "outputs": [],
   "source": [
    "from pprint import pprint"
   ]
  },
  {
   "cell_type": "code",
   "execution_count": 15,
   "metadata": {},
   "outputs": [
    {
     "name": "stdout",
     "output_type": "stream",
     "text": [
      "Text: aquaman movie in hindi download, Href: /search?q=aquaman+movie+in+hindi+download&FORM=QSRE1\n",
      "Text: aquaman movie, Href: /search?q=aquaman+movie&FORM=QSRE2\n",
      "Text: aquaman 3d movie in hindi, Href: /search?q=aquaman+3d+movie+in+hindi&FORM=QSRE3\n",
      "Text: black manta aquaman, Href: /search?q=black+manta+aquaman&FORM=QSRE4\n",
      "Text: black manta aquaman movie, Href: /search?q=black+manta+aquaman+movie&FORM=QSRE5\n",
      "Text: aquaman movie sequel, Href: /search?q=aquaman+movie+sequel&FORM=QSRE6\n",
      "Text: aquaman lost kingdom movie, Href: /search?q=aquaman+lost+kingdom+movie&FORM=QSRE7\n",
      "Text: aquaman 2 jio cinema, Href: /search?q=aquaman+2+jio+cinema&FORM=QSRE8\n"
     ]
    }
   ],
   "source": [
    "\n",
    "\n",
    "links_containers = soup.select(\".b_rs\")\n",
    "\n",
    "# Extract all <a> tags from those containers\n",
    "for container in links_containers:\n",
    "    links = container.find_all(\"a\")  # Find all <a> tags within the container\n",
    "    for link in links:\n",
    "        # Extract the href attribute and text of the <a> tag\n",
    "        href = link.get(\"href\", \"No href attribute\")\n",
    "        text = link.text.strip()\n",
    "        print(f\"Text: {text}, Href: {href}\")"
   ]
  }
 ],
 "metadata": {
  "kernelspec": {
   "display_name": ".env",
   "language": "python",
   "name": "python3"
  },
  "language_info": {
   "codemirror_mode": {
    "name": "ipython",
    "version": 3
   },
   "file_extension": ".py",
   "mimetype": "text/x-python",
   "name": "python",
   "nbconvert_exporter": "python",
   "pygments_lexer": "ipython3",
   "version": "3.12.4"
  }
 },
 "nbformat": 4,
 "nbformat_minor": 2
}
